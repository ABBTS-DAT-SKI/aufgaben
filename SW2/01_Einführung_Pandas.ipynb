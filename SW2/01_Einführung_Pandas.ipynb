{
 "cells": [
  {
   "cell_type": "markdown",
   "metadata": {},
   "source": [
    "# Voraussetzungen\n",
    "\n",
    "Um mit dem Kurs zu beginnen, stellen Sie bitte sicher, dass die folgenden Voraussetzungen erfüllt sind:\n",
    "\n",
    "1. **Git installieren**  \n",
    "   Laden Sie Git von [dieser Seite](https://git-scm.com/downloads) herunter und installieren Sie es.\n",
    "\n",
    "2. **Python installieren**  \n",
    "   Falls noch nicht geschehen, können Sie Python mit dieser [Anleitung installieren](https://abbts-dat-ski.github.io/wissensdatenbank/python_installation/).\n",
    "\n",
    "3. **Benötigte Pakete installieren**  \n",
    "   Führen Sie den folgenden Befehl aus, um die notwendigen Python-Pakete zu installieren:  \n",
    "   `pip install pandas jupyter`\n",
    "\n",
    "4. **IDE installieren**  \n",
    "   Laden Sie Visual Studio Code von [hier herunter](https://code.visualstudio.com/download).  \n",
    "   Alternativ können Sie auch eine andere IDE oder einen Code-Editor verwenden, der Jupyter Notebooks unterstützt, wie z.B. PyCharm, JupyterLab oder Jupyter Notebook.\n",
    "\n",
    "5. **GitHub Repository klonen**  \n",
    "   Klonen Sie das Repository auf Ihren Rechner, indem Sie den folgenden Befehl ausführen:  \n",
    "   `git clone https://github.com/ABBTS-DAT-SKI/aufgaben.git`\n",
    "\n",
    "6. **Projekt in Ihrer IDE öffnen**  \n",
    "   Öffnen Sie den heruntergeladenen Ordner `aufgaben` in Ihrer IDE oder Ihrem Code-Editor.\n",
    "\n",
    "7. **Notebook öffnen**  \n",
    "   Öffnen Sie nun die Datei `Einführung_Pandas.ipynb` in Ihrer IDE/Code-Editor.\n",
    "\n",
    "Nun sind Sie bereit, mit Aufgabe 1 zu beginnen."
   ]
  },
  {
   "cell_type": "markdown",
   "metadata": {},
   "source": [
    "# Aufgabe 1:\n",
    "Lesen Sie den Datensatz `data/data_resampled.csv` als Pandas-DataFrame ein und zeigen Sie die ersten 5 Zeilen an."
   ]
  },
  {
   "cell_type": "code",
   "execution_count": null,
   "metadata": {},
   "outputs": [],
   "source": [
    "# Ihr Code:\n",
    "import pandas as pd"
   ]
  },
  {
   "cell_type": "markdown",
   "metadata": {},
   "source": [
    "Was sehen Sie hier? Um was könnte es sich bei diesem Datensatz handeln? Verwenden Sie dazu weitere Funktionen um nicht nur die ersten 5 Zeilen anzuzeigen.\n"
   ]
  },
  {
   "cell_type": "code",
   "execution_count": 1,
   "metadata": {},
   "outputs": [],
   "source": [
    "# Ihr Code:"
   ]
  },
  {
   "cell_type": "markdown",
   "metadata": {},
   "source": [
    "# Aufgabe 2:\n",
    "Selektieren Sie nun die temperature-Werte und berechnen Sie den Durchschnitt. Hier finden Sie  eine Anleitung wie Sie den Durchschnitt berechnen können: https://pandas.pydata.org/docs/reference/api/pandas.DataFrame.mean.html\n",
    "\n",
    "Wie warm ist es im Durchschnitt?\n",
    "\n"
   ]
  },
  {
   "cell_type": "code",
   "execution_count": 3,
   "metadata": {},
   "outputs": [],
   "source": [
    "# Ihr Code:"
   ]
  },
  {
   "cell_type": "markdown",
   "metadata": {},
   "source": [
    "# Aufgabe 3:\n",
    "Wie verhält sich die Sample funktion, wenn Sie sie diese Mehrfach aufrufen? Können Sie die Ergebnisse der Funktionen reproduzierbar machen?\n",
    "\n",
    "Schauen Sie sich dazu die Dokumentation der Funktion an: https://pandas.pydata.org/docs/reference/api/pandas.DataFrame.sample.html\n"
   ]
  },
  {
   "cell_type": "code",
   "execution_count": 4,
   "metadata": {},
   "outputs": [],
   "source": [
    "# Ihr Code:"
   ]
  },
  {
   "cell_type": "markdown",
   "metadata": {},
   "source": [
    "# Zusatzaufgabe 4:\n",
    "\n",
    "Wieviele Räume gibt es?\n",
    "\n",
    "Suchen Sie in der Pandas Dokumentation nach der Funktion die Ihnen hier die Anzahl eindeutiger Werte einer Spalte zurückgibt.\n"
   ]
  },
  {
   "cell_type": "code",
   "execution_count": 5,
   "metadata": {},
   "outputs": [],
   "source": [
    "# Ihr Code:"
   ]
  }
 ],
 "metadata": {
  "kernelspec": {
   "display_name": ".venv",
   "language": "python",
   "name": "python3"
  },
  "language_info": {
   "codemirror_mode": {
    "name": "ipython",
    "version": 3
   },
   "file_extension": ".py",
   "mimetype": "text/x-python",
   "name": "python",
   "nbconvert_exporter": "python",
   "pygments_lexer": "ipython3",
   "version": "3.12.4"
  }
 },
 "nbformat": 4,
 "nbformat_minor": 2
}
