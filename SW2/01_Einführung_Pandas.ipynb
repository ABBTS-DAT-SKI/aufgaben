{
 "cells": [
  {
   "cell_type": "markdown",
   "metadata": {},
   "source": [
    "# Voraussetzungen\n",
    "\n",
    "- Python installiert (Eine Anleitung finden Sie hier: [https://github.com/ABBTS-DAT-SKI/playground/blob/main/markdown/installation.md](https://github.com/ABBTS-DAT-SKI/playground/blob/main/markdown/installation.md))\n",
    "- git installiert: [https://git-scm.com/downloads](https://git-scm.com/downloads)\n",
    "- Dieses GitHub Repository geklont: `git clone https://github.com/ABBTS-DAT-SKI/aufgaben.git`\n",
    "- Installieren Sie die benötigten Pakete: `pip install pandas jupyter`\n",
    "- Installieren Sie VS Code: [https://code.visualstudio.com/download](https://code.visualstudio.com/download)\n",
    "  - Sie können auch eine andere IDE/Code-Editor installieren oder verwenden. Wichtig ist, dass Sie damit JuypterNotebooks öffnen und ausführen können. Folgende IDEs sollten funktionieren:\n",
    "    - VS Code\n",
    "    - PyCharm\n",
    "    - JupyterLab\n",
    "    - Jupyter Notebook\n",
    "- öffnen Sie den heruntergeladenen Ordner `aufgaben` in ihrer IDE/Code-Editor.\n",
    "- Öffnen Sie diese Datei `Einführung_Pandas.ipynb` in ihrer IDE/Code-Editor.\n",
    "\n",
    "Nun können Sie mit der Aufgabe 1 beginnen."
   ]
  },
  {
   "cell_type": "markdown",
   "metadata": {},
   "source": [
    "# Aufgabe 1:\n",
    "Lesen Sie den Datensatz `data/data_resampled.csv` als Pandas-DataFrame ein und zeigen Sie die ersten 5 Zeilen an."
   ]
  },
  {
   "cell_type": "code",
   "execution_count": null,
   "metadata": {},
   "outputs": [],
   "source": [
    "# Ihr Code:\n",
    "import pandas as pd"
   ]
  },
  {
   "cell_type": "markdown",
   "metadata": {},
   "source": [
    "Was sehen Sie hier? Um was könnte es sich bei diesem Datensatz handeln? Verwenden Sie dazu weitere Funktionen um nicht nur die ersten 5 Zeilen anzuzeigen.\n"
   ]
  },
  {
   "cell_type": "code",
   "execution_count": 1,
   "metadata": {},
   "outputs": [],
   "source": [
    "# Ihr Code:"
   ]
  },
  {
   "cell_type": "markdown",
   "metadata": {},
   "source": [
    "# Aufgabe 2:\n",
    "Selektieren Sie nun die temperature-Werte und berechnen Sie den Durchschnitt. Hier finden Sie  eine Anleitung wie Sie den Durchschnitt berechnen können: https://pandas.pydata.org/docs/reference/api/pandas.DataFrame.mean.html\n",
    "\n",
    "Wie warm ist es im Durchschnitt?\n",
    "\n"
   ]
  },
  {
   "cell_type": "code",
   "execution_count": 3,
   "metadata": {},
   "outputs": [],
   "source": [
    "# Ihr Code:"
   ]
  },
  {
   "cell_type": "markdown",
   "metadata": {},
   "source": [
    "# Aufgabe 3:\n",
    "Wie verhält sich die Sample funktion, wenn Sie sie diese Mehrfach aufrufen? Können Sie die Ergebnisse der Funktionen reproduzierbar machen?\n",
    "\n",
    "Schauen Sie sich dazu die Dokumentation der Funktion an: https://pandas.pydata.org/docs/reference/api/pandas.DataFrame.sample.html\n"
   ]
  },
  {
   "cell_type": "code",
   "execution_count": 4,
   "metadata": {},
   "outputs": [],
   "source": [
    "# Ihr Code:"
   ]
  },
  {
   "cell_type": "markdown",
   "metadata": {},
   "source": [
    "# Zusatzaufgabe 4:\n",
    "\n",
    "Wieviele Räume gibt es?\n",
    "\n",
    "Suchen Sie in der Pandas Dokumentation nach der Funktion die Ihnen hier die Anzahl eindeutiger Werte einer Spalte zurückgibt.\n"
   ]
  },
  {
   "cell_type": "code",
   "execution_count": 5,
   "metadata": {},
   "outputs": [],
   "source": [
    "# Ihr Code:"
   ]
  }
 ],
 "metadata": {
  "kernelspec": {
   "display_name": ".venv",
   "language": "python",
   "name": "python3"
  },
  "language_info": {
   "codemirror_mode": {
    "name": "ipython",
    "version": 3
   },
   "file_extension": ".py",
   "mimetype": "text/x-python",
   "name": "python",
   "nbconvert_exporter": "python",
   "pygments_lexer": "ipython3",
   "version": "3.12.4"
  }
 },
 "nbformat": 4,
 "nbformat_minor": 2
}
