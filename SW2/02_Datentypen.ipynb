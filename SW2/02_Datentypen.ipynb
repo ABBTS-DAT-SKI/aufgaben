{
 "cells": [
  {
   "cell_type": "markdown",
   "metadata": {},
   "source": [
    "# Aufgabe 1\n",
    "Laden Sie wieder den Datensatz \"data/data_resampled.csv\" als Pandas-DataFrame. Beschreiben Sie den Datentyp jeder Spalte.\n"
   ]
  },
  {
   "cell_type": "code",
   "execution_count": null,
   "metadata": {},
   "outputs": [],
   "source": [
    "# Ihr Code:\n",
    "import pandas as pd"
   ]
  },
  {
   "cell_type": "markdown",
   "metadata": {},
   "source": [
    "# Aufgabe 2\n",
    "\n",
    "Konvertieren Sie die Spalte co2 in den Datentyp int und dann wieder zurück in float. Geben Sie das Ergebnis aus. Was ist passiert?"
   ]
  },
  {
   "cell_type": "code",
   "execution_count": null,
   "metadata": {},
   "outputs": [],
   "source": [
    "# Ihr Code:"
   ]
  },
  {
   "cell_type": "markdown",
   "metadata": {},
   "source": [
    "# Aufgabe 3\n",
    "\n",
    "Finden Sie genau heraus, welchen Datentyp die Spalte \"timestamp\" hat.\n"
   ]
  },
  {
   "cell_type": "code",
   "execution_count": null,
   "metadata": {},
   "outputs": [],
   "source": [
    "# Ihr Code:"
   ]
  },
  {
   "cell_type": "markdown",
   "metadata": {},
   "source": [
    "# Aufgabe 4\n",
    "\n",
    "```python\n",
    "from datetime import datetime, timedelta\n",
    "df[\"timestamp\"] = df[\"timestamp\"] + timedelta(hours=1)\n",
    "df.head()\n",
    "```\n",
    "\n",
    "Der obenstehende Code sollte eigentlich die Uhrzeit um eine Stunde erhöhen. Wieso funktioniert das nicht?\n",
    "\n",
    "Beheben Sie den Fehler in der Spalte \"timestamp\" und erhöhen Sie die Uhrzeit um eine Stunde.\n"
   ]
  },
  {
   "cell_type": "code",
   "execution_count": null,
   "metadata": {},
   "outputs": [],
   "source": [
    "# Ihr Code:"
   ]
  },
  {
   "cell_type": "markdown",
   "metadata": {},
   "source": [
    "# Zusatzaufgabe 5\n",
    "\n",
    "Folgenden Fehler finden Sie auch in folgendem Datensatz `data/date_formats.csv` wieder. Versuchen Sie jede Spalte zu fixen, damit Sie eine Stunde dazu addieren können.\n",
    "\n",
    "Hier finden Sie ein Cheatsheet zu den Formaten: https://strftime.org/\n"
   ]
  },
  {
   "cell_type": "code",
   "execution_count": null,
   "metadata": {},
   "outputs": [],
   "source": [
    "# Ihr Code:"
   ]
  }
 ],
 "metadata": {
  "kernelspec": {
   "display_name": ".venv",
   "language": "python",
   "name": "python3"
  },
  "language_info": {
   "codemirror_mode": {
    "name": "ipython",
    "version": 3
   },
   "file_extension": ".py",
   "mimetype": "text/x-python",
   "name": "python",
   "nbconvert_exporter": "python",
   "pygments_lexer": "ipython3",
   "version": "3.12.4"
  }
 },
 "nbformat": 4,
 "nbformat_minor": 2
}
