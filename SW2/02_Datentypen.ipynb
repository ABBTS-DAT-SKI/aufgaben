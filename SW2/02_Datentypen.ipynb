{
 "cells": [
  {
   "cell_type": "markdown",
   "metadata": {},
   "source": [
    "# Aufgabe 1\n",
    "Laden Sie wieder den Datensatz \"data/data_resampled.csv\" als Pandas-DataFrame. Beschreiben Sie den Datentyp jeder Spalte.\n"
   ]
  },
  {
   "cell_type": "code",
   "execution_count": 27,
   "metadata": {},
   "outputs": [],
   "source": [
    "# Ihr Code:\n",
    "import pandas as pd"
   ]
  },
  {
   "cell_type": "markdown",
   "metadata": {},
   "source": [
    "# Aufgabe 2\n",
    "\n",
    "Konvertieren Sie die Spalte co2 in den Datentyp int und dann wieder zurück in float. Geben Sie das Ergebnis aus. Was ist passiert?"
   ]
  },
  {
   "cell_type": "code",
   "execution_count": 28,
   "metadata": {},
   "outputs": [],
   "source": [
    "# Ihr Code:"
   ]
  },
  {
   "cell_type": "markdown",
   "metadata": {},
   "source": [
    "# Aufgabe 3\n",
    "\n",
    "Finden Sie genau heraus, welchen Datentyp die Spalte \"timestamp\" hat.\n"
   ]
  },
  {
   "cell_type": "code",
   "execution_count": 29,
   "metadata": {},
   "outputs": [],
   "source": [
    "# Ihr Code:"
   ]
  },
  {
   "cell_type": "markdown",
   "metadata": {},
   "source": [
    "# Aufgabe 4\n",
    "\n",
    "```python\n",
    "from datetime import datetime, timedelta\n",
    "df[\"timestamp\"] = df[\"timestamp\"] + timedelta(hours=1)\n",
    "df.head()\n",
    "```\n",
    "\n",
    "Der obenstehende Code sollte eigentlich die Uhrzeit um eine Stunde erhöhen. Wieso funktioniert das nicht?\n",
    "\n",
    "Beheben Sie den Fehler in der Spalte \"timestamp\" und erhöhen Sie die Uhrzeit um eine Stunde.\n"
   ]
  },
  {
   "cell_type": "code",
   "execution_count": 17,
   "metadata": {},
   "outputs": [
    {
     "data": {
      "text/html": [
       "<div>\n",
       "<style scoped>\n",
       "    .dataframe tbody tr th:only-of-type {\n",
       "        vertical-align: middle;\n",
       "    }\n",
       "\n",
       "    .dataframe tbody tr th {\n",
       "        vertical-align: top;\n",
       "    }\n",
       "\n",
       "    .dataframe thead th {\n",
       "        text-align: right;\n",
       "    }\n",
       "</style>\n",
       "<table border=\"1\" class=\"dataframe\">\n",
       "  <thead>\n",
       "    <tr style=\"text-align: right;\">\n",
       "      <th></th>\n",
       "      <th>timestamp</th>\n",
       "      <th>room_id</th>\n",
       "      <th>co2</th>\n",
       "      <th>humidity</th>\n",
       "      <th>light</th>\n",
       "      <th>pir</th>\n",
       "      <th>temperature</th>\n",
       "    </tr>\n",
       "  </thead>\n",
       "  <tbody>\n",
       "    <tr>\n",
       "      <th>0</th>\n",
       "      <td>2013-08-23 17:00:00</td>\n",
       "      <td>415</td>\n",
       "      <td>486.0</td>\n",
       "      <td>-1.000000</td>\n",
       "      <td>-1.000000</td>\n",
       "      <td>-1.0</td>\n",
       "      <td>-1.000000</td>\n",
       "    </tr>\n",
       "    <tr>\n",
       "      <th>1</th>\n",
       "      <td>2013-08-23 18:00:00</td>\n",
       "      <td>415</td>\n",
       "      <td>492.0</td>\n",
       "      <td>-1.000000</td>\n",
       "      <td>-1.000000</td>\n",
       "      <td>-1.0</td>\n",
       "      <td>-1.000000</td>\n",
       "    </tr>\n",
       "    <tr>\n",
       "      <th>2</th>\n",
       "      <td>2013-08-24 00:00:00</td>\n",
       "      <td>413</td>\n",
       "      <td>528.0</td>\n",
       "      <td>45.150974</td>\n",
       "      <td>93.707763</td>\n",
       "      <td>0.0</td>\n",
       "      <td>24.116347</td>\n",
       "    </tr>\n",
       "    <tr>\n",
       "      <th>3</th>\n",
       "      <td>2013-08-24 00:00:00</td>\n",
       "      <td>415</td>\n",
       "      <td>532.0</td>\n",
       "      <td>51.742340</td>\n",
       "      <td>68.896657</td>\n",
       "      <td>0.0</td>\n",
       "      <td>23.407280</td>\n",
       "    </tr>\n",
       "    <tr>\n",
       "      <th>4</th>\n",
       "      <td>2013-08-24 01:00:00</td>\n",
       "      <td>413</td>\n",
       "      <td>527.0</td>\n",
       "      <td>44.403028</td>\n",
       "      <td>133.429167</td>\n",
       "      <td>0.0</td>\n",
       "      <td>24.586375</td>\n",
       "    </tr>\n",
       "  </tbody>\n",
       "</table>\n",
       "</div>"
      ],
      "text/plain": [
       "            timestamp  room_id    co2   humidity       light  pir  temperature\n",
       "0 2013-08-23 17:00:00      415  486.0  -1.000000   -1.000000 -1.0    -1.000000\n",
       "1 2013-08-23 18:00:00      415  492.0  -1.000000   -1.000000 -1.0    -1.000000\n",
       "2 2013-08-24 00:00:00      413  528.0  45.150974   93.707763  0.0    24.116347\n",
       "3 2013-08-24 00:00:00      415  532.0  51.742340   68.896657  0.0    23.407280\n",
       "4 2013-08-24 01:00:00      413  527.0  44.403028  133.429167  0.0    24.586375"
      ]
     },
     "execution_count": 17,
     "metadata": {},
     "output_type": "execute_result"
    }
   ],
   "source": [
    "# Ihr Code:"
   ]
  },
  {
   "cell_type": "markdown",
   "metadata": {},
   "source": [
    "# Zusatzaufgabe 5\n",
    "\n",
    "Folgenden Fehler finden Sie auch in folgendem Datensatz `data/date_formats.csv` wieder. Versuchen Sie jede Spalte zu fixen, damit Sie eine Stunde dazu addieren können.\n",
    "\n",
    "Hier finden Sie ein Cheatsheet zu den Formaten: https://strftime.org/\n"
   ]
  },
  {
   "cell_type": "code",
   "execution_count": null,
   "metadata": {},
   "outputs": [],
   "source": [
    "# Ihr Code:"
   ]
  }
 ],
 "metadata": {
  "kernelspec": {
   "display_name": ".venv",
   "language": "python",
   "name": "python3"
  },
  "language_info": {
   "codemirror_mode": {
    "name": "ipython",
    "version": 3
   },
   "file_extension": ".py",
   "mimetype": "text/x-python",
   "name": "python",
   "nbconvert_exporter": "python",
   "pygments_lexer": "ipython3",
   "version": "3.12.4"
  }
 },
 "nbformat": 4,
 "nbformat_minor": 2
}
