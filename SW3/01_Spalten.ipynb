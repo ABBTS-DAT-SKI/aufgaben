{
 "cells": [
  {
   "cell_type": "markdown",
   "metadata": {},
   "source": [
    "# Aufgabe 1:\n",
    "Lesen Sie den Datensatz \"data/data_many_columns.csv\" als Pandas-DataFrame ein und zeigen Sie die ersten 5 Zeilen an. Selektieren Sie nun nur die Spalte `648.co2`."
   ]
  },
  {
   "cell_type": "code",
   "execution_count": null,
   "metadata": {},
   "outputs": [],
   "source": []
  },
  {
   "cell_type": "markdown",
   "metadata": {},
   "source": [
    "# Aufgabe 2\n",
    "Arbeiten sie mit dem gleichen Datensatz weiter.\n",
    "- a) Selektieren Sie nun die Spalten `648.co2` und `648.pir`.\n",
    "- b) Welchen Typ hat das Objekt, welches aus der Selektion entstanden ist? Vergleichen sie es mit dem Objekttyp aus Aufgabe 1.\n",
    "- c) Selektieren Sie alle Spalten welche mit `648` beginnen.\n",
    "- d) Selektieren Sie alle `co2` und `temperature` Messwerte.\n",
    "- e) Selektieren Sie alle `co2` Messwerte und dazu noch das Datum und die Uhrzeit."
   ]
  },
  {
   "cell_type": "code",
   "execution_count": null,
   "metadata": {},
   "outputs": [],
   "source": []
  },
  {
   "cell_type": "markdown",
   "metadata": {},
   "source": [
    "# Aufgabe 3\n",
    "Arbeiten sie mit dem gleichen Datensatz weiter.\n",
    "- a) Was war die durchschnittliche Temperatur im Raum mit der ID 648? (die Zahl vor dem Punkt in den Spalten steht für die Raum-ID). Was war das Minimum/Maximum?\n",
    "- b) Berechnen Sie für jede Spalte den Durchschnitt.\n",
    "- c) Berechnen Sie den höchsten Durchschnitt aller Temperaturwerte.\n",
    "- b) Berechnen Sie das Minimum/Maximum und den Durchschnitt aller Temperaturwerte. Geben sie das Resultat als ein Dataframe aus."
   ]
  },
  {
   "cell_type": "code",
   "execution_count": null,
   "metadata": {},
   "outputs": [],
   "source": []
  },
  {
   "cell_type": "markdown",
   "metadata": {},
   "source": [
    "# Aufgabe 4\n",
    "Arbeiten sie mit dem gleichen Datensatz weiter.\n",
    "- a) Selektieren Sie die 10te bis 20te Zeilen.\n",
    "- b) Selektieren Sie die letzten 3 Zeilen.\n",
    "- c) Selektieren Sie alle Zeilen bis auf die letzten 7 Zeilen.\n",
    "- d) **Zusatzaufgabe:** Wieso gibt folgender Code einen Fehler und wie können Sie diesen beheben? `df[:10]['413.co2'] = 3.9`"
   ]
  },
  {
   "cell_type": "code",
   "execution_count": null,
   "metadata": {},
   "outputs": [],
   "source": []
  },
  {
   "cell_type": "markdown",
   "metadata": {},
   "source": [
    "# Aufgabe 5\n",
    "Arbeiten sie mit dem Datensatz `data/data_resampled_full.csv` weiter.\n",
    "- a) Selektieren Sie alle Zeilen mit der room_id `648`.\n",
    "- b) Selektieren Sie alle Zeilen mit einem CO2 Messwert von >= `1000`.\n",
    "- c) Selektieren Sie alle Zeilen um Mitternacht (24:00)."
   ]
  },
  {
   "cell_type": "code",
   "execution_count": null,
   "metadata": {},
   "outputs": [],
   "source": []
  },
  {
   "cell_type": "markdown",
   "metadata": {},
   "source": [
    "# Zweiter Teil: Manipulation der Spalten"
   ]
  },
  {
   "cell_type": "markdown",
   "metadata": {},
   "source": [
    "# Aufgabe 6:\n",
    "Arbeiten Sie wieder mit Datensatz aus `data/data_many_columns.csv`.\n",
    "- a) Benennen Sie die Spalte `timestamp` in `Time` um.\n",
    "- a) Der Name der `pir`-Spalten ist nicht so aussagekräftig wie die Spalten anderen Spalten. Ersetzen sie deshalb `pir` mit `infrared` in allen betroffenen Spalten."
   ]
  },
  {
   "cell_type": "code",
   "execution_count": null,
   "metadata": {},
   "outputs": [],
   "source": []
  },
  {
   "cell_type": "markdown",
   "metadata": {},
   "source": [
    "# Aufgabe 7\n",
    "Arbeiten Sie mit dem Datensatz `data\\data_resampled.csv`.\n",
    "\n",
    "Die Sensoren im Raum 413 wurden am 2013-08-07 und im Raum 415 wurden am 2013-08-14 installiert. berechnen Sie nun für jede Zeile wieviel Tage es her ist, seit dem die Sensoren im Raum installiert wurden."
   ]
  },
  {
   "cell_type": "code",
   "execution_count": null,
   "metadata": {},
   "outputs": [],
   "source": []
  },
  {
   "cell_type": "markdown",
   "metadata": {},
   "source": [
    "# Aufgabe 8\n",
    "Arbeiten Sie mit dem Datensatz `data\\data_resampled.csv`.\n",
    "- a) Rechnen Sie die Temperaturwerte in Kevlin um. (Nehmen Sie an, dass sie aktuell in Celcius sind) \n",
    "- b) Rechnen Sie die Temperaturwerte in Fahrenheit um."
   ]
  },
  {
   "cell_type": "code",
   "execution_count": null,
   "metadata": {},
   "outputs": [],
   "source": []
  },
  {
   "cell_type": "markdown",
   "metadata": {},
   "source": [
    "# Aufgabe 9\n",
    "Arbeiten Sie mit dem Datensatz `data\\data_many_columns.csv`.\n",
    "\n",
    "Berechnen Sie den Unterschied der CO2-Werte der Räume 413 und 415."
   ]
  },
  {
   "cell_type": "code",
   "execution_count": null,
   "metadata": {},
   "outputs": [],
   "source": []
  }
 ],
 "metadata": {
  "kernelspec": {
   "display_name": ".venv",
   "language": "python",
   "name": "python3"
  },
  "language_info": {
   "codemirror_mode": {
    "name": "ipython",
    "version": 3
   },
   "file_extension": ".py",
   "mimetype": "text/x-python",
   "name": "python",
   "nbconvert_exporter": "python",
   "pygments_lexer": "ipython3",
   "version": "3.12.4"
  }
 },
 "nbformat": 4,
 "nbformat_minor": 2
}
