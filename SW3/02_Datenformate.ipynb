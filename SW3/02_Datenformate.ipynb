{
 "cells": [
  {
   "cell_type": "markdown",
   "metadata": {},
   "source": [
    "# Aufgabe 1\n",
    "\n",
    "Öfnnen Sie zuerst die Datei  `data/datenformat_1.csv` in einem Texteditor und schauen Sie sich die Daten an. Wie ist das Format aufgebaut? Lesen Sie die Datei anschliessend mit Pandas ein. Entspricht das DataFrame Ihren Erwartungen? Stimmen die Datentypen?"
   ]
  },
  {
   "cell_type": "code",
   "execution_count": 1,
   "metadata": {},
   "outputs": [],
   "source": [
    "# Ihr Code:"
   ]
  },
  {
   "cell_type": "markdown",
   "metadata": {},
   "source": [
    "# Aufgabe 2\n",
    "\n",
    "Öfnnen Sie nun die Datei  `data/datenformat_2.csv` in einem Texteditor und schauen Sie sich die Daten an. Wie ist das Format aufgebaut? Lesen Sie die Datei anschliessend mit Pandas ein. Entspricht das DataFrame Ihren Erwartungen? Stimmen die Datentypen?\n",
    "\n"
   ]
  },
  {
   "cell_type": "code",
   "execution_count": 2,
   "metadata": {},
   "outputs": [],
   "source": [
    "# Ihr Code:"
   ]
  },
  {
   "cell_type": "markdown",
   "metadata": {},
   "source": [
    "# Aufgabe 3\n",
    "\n",
    "Öffnen Sie die Datei `data/datenformat_3.xlsx` in Excel und schauen Sie sich die Daten an. Wie ist das Format aufgebaut? Lesen Sie die Datei anschliessend mit Pandas ein. Entspricht das DataFrame Ihren Erwartungen? Stimmen die Datentypen?\n",
    "\n",
    "Installieren Sie die Bibliothek `openpyxl` für diese Aufgabe. um Excel-Dateien lesen zu können.\n"
   ]
  },
  {
   "cell_type": "code",
   "execution_count": 3,
   "metadata": {},
   "outputs": [],
   "source": [
    "# Ihr Code:"
   ]
  },
  {
   "cell_type": "markdown",
   "metadata": {},
   "source": [
    "# Zusatzaufgabe 4\n",
    "\n",
    "Öffnen Sie die Datei `data/datenformat_4.txt` in einem Texteditor und schauen Sie sich die Daten an. Wie ist das Format aufgebaut? Lesen Sie die Datei anschliessend mit Pandas ein. Entspricht das DataFrame Ihren Erwartungen? Stimmen die Datentypen?\n"
   ]
  },
  {
   "cell_type": "code",
   "execution_count": 4,
   "metadata": {},
   "outputs": [],
   "source": [
    "# Ihr Code:"
   ]
  },
  {
   "cell_type": "markdown",
   "metadata": {},
   "source": [
    "# Zusatzaufgabe 5\n",
    "\n",
    "Öffnen Sie die Datei `data/datenformat_5.csv` in einem Texteditor und schauen Sie sich die Daten an. Wie ist das Format aufgebaut? Wo könnte es Probleme geben? \n",
    "\n",
    "Lesen Sie die Datei anschliessend mit Pandas ein. Entspricht das DataFrame Ihren Erwartungen? Stimmen die Datentypen?\n"
   ]
  },
  {
   "cell_type": "code",
   "execution_count": 5,
   "metadata": {},
   "outputs": [],
   "source": [
    "# Ihr Code:"
   ]
  }
 ],
 "metadata": {
  "kernelspec": {
   "display_name": ".venv",
   "language": "python",
   "name": "python3"
  },
  "language_info": {
   "codemirror_mode": {
    "name": "ipython",
    "version": 3
   },
   "file_extension": ".py",
   "mimetype": "text/x-python",
   "name": "python",
   "nbconvert_exporter": "python",
   "pygments_lexer": "ipython3",
   "version": "3.12.4"
  }
 },
 "nbformat": 4,
 "nbformat_minor": 2
}
