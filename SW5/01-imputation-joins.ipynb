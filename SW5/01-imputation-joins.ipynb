{
 "cells": [
  {
   "cell_type": "markdown",
   "metadata": {},
   "source": [
    "## Imputationen, Joins und Pivot/Melt\n",
    "\n",
    "In dieser Aufgabe werden Sie lernen, wie Sie fehlende Werte imputieren, wie Sie mehrere Datensätze zusammenfügen und wie Sie aus einem breiten Datensatz einen langen Datensatz erstellen und umgekehrt.\n",
    "\n",
    "Lesen Sie zunächst die folgenden Dokumentationen durch:\n",
    "\n",
    "- [Wissensdatenbank: Imputation](https://abbts-dat-ski.github.io/wissensdatenbank/data-engineering/imputation/)\n",
    "- [Wissensdatenbank: Joins](https://abbts-dat-ski.github.io/wissensdatenbank/data-engineering/joins/)\n",
    "- [Wissensdatenbank: Pivot und Melt](https://abbts-dat-ski.github.io/wissensdatenbank/data-engineering/pivot_melt/)\n",
    "\n",
    "### Aufgabenstellung\n",
    "\n",
    "1. **Fehlende Werte imputieren**:\n",
    "    Arbeiten Sie mit dem Datensatz `impute.csv` im Verzeichnis `data`. Dieser Enthält 5 Sensormesswerte aus einem Raum. Imputieren Sie die fehlenden Werte wo möglich durch eine lineare Interpolation.\n",
    "\n",
    "2. **Horizontale Joins mit einer eigenen Zeitstempel-Spalte**:\n",
    "    Arbeiten Sie mit dem Datensatz `co2.csv` im Verzeichnis `data`.\n",
    "    Überprüfen Sie, ob zwischen den Zeitstempeln Zeilen/Messwerte fehlen indem Sie den Datensatz mit einer neu erstellten Zeitstempel-Spalte horizontalen joinen. Geben Sie die fehlenden Zeitstempel aus. \n",
    "\n",
    "3. **Horizontale Joins von zwei verschiedenen Datensätzen**:\n",
    "    Arbeiten Sie mit den beiden Datensätzen `co2.csv` und `temperature.csv` im Verzeichnis `data`. Fügen Sie die beiden Datensätze über einen horizontalen Join in ein gemeinsames Dataframe zusammen. Stellen Sie sicher, dass beim Zusammenfügen keine Daten verloren gehen und die Spalten einen logischen Namen haben.\n",
    "\n",
    "4. **Melt**:\n",
    "    Arbeiten Sie mit dem Datensatz `room_776_wide.csv` im Verzeichnis `data` weiter. Dieser Datensatz ist ein breiter Datensatz (er hat mehrere Spalten mit verschiedenen Messwerten). Erstellen Sie aus diesem breiten Datensatz einen langen Datensatz. Verwenden Sie die `melt`-Funktion und studieren Sie dazu die Parameter in der Wissensdatenbank. Der Datensatz sollte dann ähnlich aussehen wie `room_776_long.csv`.\n",
    "\n",
    "5. **Pivot**:\n",
    "    Arbeiten Sie mit dem Datensatz `room_776_long.csv` im Verzeichnis `data` weiter. Dieser Datensatz ist ein langen Datensatz. Neben dem Index hat er eine Spalte die den Typ des Messwerts identifiziert und eine Spalte die den Messwert selber beinhaltet. Erstellen Sie aus diesem langen Datensatz einen breiten Datensatz (mit Hilfe der `pivot`-Funktion). Der Datensatz sollte dann ähnlich aussehen wie `room_776_wide.csv`."
   ]
  },
  {
   "cell_type": "code",
   "execution_count": null,
   "metadata": {},
   "outputs": [],
   "source": [
    "import pandas as pd\n",
    "\n",
    "df = pd.read_csv(\"../data/impute.csv\")\n",
    "\n",
    "df"
   ]
  }
 ],
 "metadata": {
  "kernelspec": {
   "display_name": ".venv",
   "language": "python",
   "name": "python3"
  },
  "language_info": {
   "codemirror_mode": {
    "name": "ipython",
    "version": 3
   },
   "file_extension": ".py",
   "mimetype": "text/x-python",
   "name": "python",
   "nbconvert_exporter": "python",
   "pygments_lexer": "ipython3",
   "version": "3.12.4"
  }
 },
 "nbformat": 4,
 "nbformat_minor": 2
}
