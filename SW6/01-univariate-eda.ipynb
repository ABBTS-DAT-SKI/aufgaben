{
 "cells": [
  {
   "cell_type": "markdown",
   "id": "f39359c6",
   "metadata": {},
   "source": [
    "## Univariate Statistiken für Sensordaten\n",
    "Sie werden mit Sensordaten aus zwei verschiedenen Räumen eines Gebäudes arbeiten. Diese Aufgabe zeigt Ihnen, wie Sie statistische Kennzahlen berechnen und interpretieren, um räumliche Unterschiede zu verstehen.\n",
    "\n",
    "Lesen Sie zunächst die folgenden Dokumentationen durch:\n",
    "- [Wissensdatenbank: Univariate Statistiken](https://abbts-dat-ski.github.io/wissensdatenbank/statistics/univariate_statistics/)\n",
    "- [Wissensdatenbank: Entfernen von Ausreissern](https://abbts-dat-ski.github.io/wissensdatenbank/data-engineering/outliers/)\n",
    "\n",
    "### Aufgabenstellung\n",
    "\n",
    "1. **Dateneinlesen und Bereinigung**:\n",
    "   Arbeiten Sie mit dem Datensatz `data_resampled.csv` im Verzeichnis `data`. \n",
    "   - Lesen Sie die Daten ein\n",
    "   - Identifizieren Sie ungültige Temperaturwerte (unter 0°C)\n",
    "   - Bereinigen Sie den Datensatz, indem Sie diese Werte entfernen\n",
    "\n",
    "2. **Datenaufteilung nach Räumen**:\n",
    "   Arbeiten Sie mit dem bereinigten Datensatz weiter.\n",
    "   - Filtern Sie die Daten für Zimmer 413 in ein separates DataFrame `df_room_413`\n",
    "   - Filtern Sie die Daten für Zimmer 415 in ein separates DataFrame `df_room_415`\n",
    "\n",
    "3. **Statistische Analysen**:\n",
    "   Arbeiten Sie mit den beiden Raum-DataFrames aus Aufgabe 2.\n",
    "   - Berechnen Sie für beide Räume die deskriptiven Statistiken mit der `describe()` Funktion\n",
    "   - Extrahieren Sie die Kennzahlen (Mittelwert, Standardabweichung, Min/Max)\n",
    "\n",
    "4. **Vergleichende Interpretation**:\n",
    "   Arbeiten Sie mit den berechneten Statistiken aus Aufgabe 3.\n",
    "   - Vergleichen Sie die Mittelwerte: Welcher Raum hat durchschnittlich höhere Temperaturen?\n",
    "   - Analysieren Sie die Standardabweichungen: In welchem Raum schwankt die Temperatur mehr?\n",
    "   - Untersuchen Sie die Min/Max-Werte: Welcher Raum zeigt extremere Temperat"
   ]
  },
  {
   "cell_type": "code",
   "execution_count": null,
   "id": "8b0ef1c2",
   "metadata": {},
   "outputs": [],
   "source": [
    "# YOUR CODE HERE"
   ]
  }
 ],
 "metadata": {
  "kernelspec": {
   "display_name": ".venv",
   "language": "python",
   "name": "python3"
  },
  "language_info": {
   "codemirror_mode": {
    "name": "ipython",
    "version": 3
   },
   "file_extension": ".py",
   "mimetype": "text/x-python",
   "name": "python",
   "nbconvert_exporter": "python",
   "pygments_lexer": "ipython3",
   "version": "3.13.3"
  }
 },
 "nbformat": 4,
 "nbformat_minor": 5
}
