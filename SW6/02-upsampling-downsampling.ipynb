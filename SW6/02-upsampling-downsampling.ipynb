{
 "cells": [
  {
   "cell_type": "markdown",
   "id": "df856a18",
   "metadata": {},
   "source": [
    "## Resampling von Zeitreihendaten für Sensormessungen\n",
    "\n",
    "Sie werden mit CO2-Sensordaten arbeiten und verschiedene Resampling-Techniken anwenden. Diese Aufgabe zeigt Ihnen, wie Sie die zeitliche Auflösung von Sensordaten anpassen können.\n",
    "\n",
    "Lesen Sie zunächst die folgenden Dokumentationen durch:\n",
    "- [Wissensdatenbank: Resampling](https://abbts-dat-ski.github.io/wissensdatenbank/data-engineering/resampling/)\n",
    "\n",
    "### Aufgabenstellung\n",
    "\n",
    "1. **Dateneinlesen und Vorbereitung**:\n",
    "   Arbeiten Sie mit dem Datensatz `co2.csv` im Verzeichnis `data`.\n",
    "   - Lesen Sie die Daten ein\n",
    "   - Konvertieren Sie die 'timestamp'-Spalte in ein Datetime-Format\n",
    "   - Setzen Sie 'timestamp' als Index\n",
    "   - Inspizieren Sie den DataFrame\n",
    "\n",
    "2. **Downsampling - Reduzierung der zeitlichen Auflösung**:\n",
    "   Arbeiten Sie mit dem vorbereiteten DataFrame aus Aufgabe 1.\n",
    "   - Reduzieren Sie die Auflösung auf 4-Stunden-Intervalle\n",
    "   - Berechnen Sie für jedes Intervall den Mittelwert\n",
    "   - Beobachten Sie, wie sich die Anzahl der Datenpunkte verändert\n",
    "\n",
    "3. **Upsampling - Erhöhung der zeitlichen Auflösung**:\n",
    "   Arbeiten Sie mit dem vorbereiteten DataFrame aus Aufgabe 1.\n",
    "   - Erhöhen Sie die Auflösung auf 30-Minuten-Intervalle\n",
    "   - Wählen Sie eine geeignete Interpolationsmethode (z.B. linear, cubic, nearest)\n",
    "   - Begründen Sie Ihre Wahl der Interpolationsmethode für CO2-Messdaten\n",
    "   - Untersuchen Sie die resultierende Datenstruktur"
   ]
  },
  {
   "cell_type": "code",
   "execution_count": null,
   "id": "9d4e856a",
   "metadata": {},
   "outputs": [],
   "source": [
    "# YOUR CODE HERE"
   ]
  }
 ],
 "metadata": {
  "kernelspec": {
   "display_name": ".venv",
   "language": "python",
   "name": "python3"
  },
  "language_info": {
   "codemirror_mode": {
    "name": "ipython",
    "version": 3
   },
   "file_extension": ".py",
   "mimetype": "text/x-python",
   "name": "python",
   "nbconvert_exporter": "python",
   "pygments_lexer": "ipython3",
   "version": "3.13.3"
  }
 },
 "nbformat": 4,
 "nbformat_minor": 5
}
