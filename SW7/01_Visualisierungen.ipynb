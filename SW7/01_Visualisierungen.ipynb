{
 "cells": [
  {
   "cell_type": "markdown",
   "id": "e20788c9",
   "metadata": {},
   "source": [
    "## Visualisierungen\n",
    "\n",
    "In dieser Aufgabe werden Sie lernen, wie Sie Daten visualisieren können.\n",
    "\n",
    "Die relevanten Einträge in der WissensDB finden Sie hier: \n",
    "- [Visualisierungen](https://abbts-dat-ski.github.io/wissensdatenbank/visualization/)\n",
    "\n",
    "### Aufgabenstellung\n",
    "\n",
    "1. **Zeitreihen visualisieren**:\n",
    "   Arbeiten Sie mit dem Datensatz `data_resampled.csv` im Verzeichnis `data`.\n",
    "   - Filtern Sie nur nach dem Raum 415.\n",
    "   - Visualisieren Sie mit Plotly die Messreihe `co2`.\n",
    "   - Schauen Sie sich den Plot an. Welche Muster/Auffälligkeiten finden Sie? \n",
    "\n",
    "2. **Verteilung visualisieren**:\n",
    "   Arbeiten Sie mit dem gleichen Datensatz weiter. \n",
    "   - Visualisieren Sie die Verteilung der CO2-Daten mit Hilfe eines Histogramms. Wählen Sie eine geeignete Bin-Grösse. \n",
    "   - Schauen Sie sich den Plot an. Welche Muster/Auffälligkeiten finden Sie? "
   ]
  },
  {
   "cell_type": "code",
   "execution_count": null,
   "id": "5d92db9a",
   "metadata": {},
   "outputs": [],
   "source": [
    "import pandas as pd\n",
    "\n",
    "df = pd.read_csv(\"../data/data_resampled.csv\", index_col=0, parse_dates=True)"
   ]
  }
 ],
 "metadata": {
  "kernelspec": {
   "display_name": ".venv",
   "language": "python",
   "name": "python3"
  },
  "language_info": {
   "codemirror_mode": {
    "name": "ipython",
    "version": 3
   },
   "file_extension": ".py",
   "mimetype": "text/x-python",
   "name": "python",
   "nbconvert_exporter": "python",
   "pygments_lexer": "ipython3",
   "version": "3.12.4"
  }
 },
 "nbformat": 4,
 "nbformat_minor": 5
}
