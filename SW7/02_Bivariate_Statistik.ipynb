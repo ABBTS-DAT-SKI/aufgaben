{
 "cells": [
  {
   "cell_type": "markdown",
   "id": "4867b210",
   "metadata": {},
   "source": [
    "## Visualisierungen\n",
    "\n",
    "In dieser Aufgabe werden Sie lernen, wie Sie Daten bivariat analysieren können.\n",
    "\n",
    "Die relevanten Einträge in der WissensDB finden Sie hier: \n",
    "- [Visualisierungen](https://abbts-dat-ski.github.io/wissensdatenbank/visualization/)\n",
    "- [Korrelation](https://abbts-dat-ski.github.io/wissensdatenbank/correlation/)\n",
    "\n",
    "\n",
    "### Aufgabenstellung\n",
    "\n",
    "1. **Zwei Variablen visualisieren (numerische und kategorische)**:\n",
    "    Arbeiten Sie mit dem Datensatz `data_resampled.csv` im Verzeichnis `data`.\n",
    "    - Erstellen Sie einen Barplot mit beiden Räumen und dem durchschnittlichen CO2-Messwert. \n",
    "\n",
    "    Ein Datenframe mit dem durchschnittlichen CO2-Wert erstellen Sie so:\n",
    "    ```python\n",
    "    avg_co2_by_room = df.groupby('room_id')['co2'].mean()\n",
    "    ```\n",
    "\n",
    "2. **Zwei numerische Variablen visualisieren**:\n",
    "    Arbeiten Sie mit dem Datensatz `room_413.csv` im Verzeichnis `data`.\n",
    "    - Visualisieren Sie die Luftfeuchtigkeit und die Temperatur in einem Plot. \n",
    "    - Sehen Sie einen Zusammenhang? Falls ja, woher könnte dieser Zusammenhang kommen? \n",
    "\n",
    "3. **Korrelation berechnen**\n",
    "    - Quantifizieren Sie die Zusammenhänge zwischen allen Spalten, indem Sie die Korrelationskoeffizienten berechnen.\n",
    "    - Vergleichen Sie die Spearman-Korrelation mit der Pearson-Korrelation. Wo ist Spearman-Korrelation viel besser?\n",
    "    - _Bonus:_ Visualisieren Sie zwei Variablen, bei denen die Spearman-Korrelation viel besser ist."
   ]
  },
  {
   "cell_type": "code",
   "execution_count": null,
   "id": "92dd1e3d",
   "metadata": {},
   "outputs": [],
   "source": [
    "import pandas as pd\n",
    "\n",
    "df = pd.read_csv(\"../data/data_resampled.csv\", index_col=0, parse_dates=True)"
   ]
  }
 ],
 "metadata": {
  "kernelspec": {
   "display_name": ".venv",
   "language": "python",
   "name": "python3"
  },
  "language_info": {
   "codemirror_mode": {
    "name": "ipython",
    "version": 3
   },
   "file_extension": ".py",
   "mimetype": "text/x-python",
   "name": "python",
   "nbconvert_exporter": "python",
   "pygments_lexer": "ipython3",
   "version": "3.12.4"
  }
 },
 "nbformat": 4,
 "nbformat_minor": 5
}
