{
 "cells": [
  {
   "cell_type": "markdown",
   "id": "c8cfd55c",
   "metadata": {},
   "source": [
    "## Lineare Regression\n",
    "\n",
    "### Aufgabenstellung\n",
    "\n",
    "In dieser Aufgabe werden Sie eine lineare Regression anwenden, um den Zusammenhang zwischen Lernzeit und Bildschirmzeit von Studierenden zu analysieren.\n",
    "\n",
    "Lesen Sie zunächst die folgenden Dokumentationen durch:\n",
    "- [Grundlagen Machine Learning](https://abbts-dat-ski.github.io/wissensdatenbank/machine-learning/basics/)\n",
    "- [Lineare Regression](https://abbts-dat-ski.github.io/wissensdatenbank/machine-learning/linear_regression/)\n",
    "- [Residuenanalyse](https://abbts-dat-ski.github.io/wissensdatenbank/machine-learning/residual_analysis/)"
   ]
  },
  {
   "cell_type": "code",
   "execution_count": null,
   "id": "6d7c5fbb",
   "metadata": {},
   "outputs": [],
   "source": [
    "import pandas as pd\n",
    "import matplotlib.pyplot as plt\n",
    "from sklearn.linear_model import LinearRegression # pip install scikit-learn\n",
    "\n",
    "# Daten einlesen und vorbereiten\n",
    "data = pd.read_csv('../data/student_habits.csv')\n",
    "data"
   ]
  },
  {
   "cell_type": "code",
   "execution_count": null,
   "id": "c24b500c",
   "metadata": {},
   "outputs": [],
   "source": [
    "# Visualisierung der Rohdaten\n",
    "plt.figure(figsize=(10, 6))\n",
    "plt.scatter(data['study_hours_per_day'], data['screen_time'], alpha=0.2)\n",
    "plt.title('Study Hours vs Screen Time')\n",
    "plt.xlabel('Study Hours per Day')\n",
    "plt.ylabel('Screen Time (hours)')\n",
    "plt.grid()\n",
    "plt.show()"
   ]
  },
  {
   "cell_type": "markdown",
   "id": "27ee5e0d",
   "metadata": {},
   "source": [
    "### Aufgabe 1\n",
    "Erstellen Sie eine Lineare Regression mit den Spalten `study_hours_per_day` und `screen_time` aus dem DataFrame `data`."
   ]
  },
  {
   "cell_type": "code",
   "execution_count": null,
   "id": "9b9620aa",
   "metadata": {},
   "outputs": [],
   "source": [
    "model = # ... # LinearRegression-Modell erstellen\n",
    "X = # ... # Feature-Spalte als Matrix formatieren (study_hours_per_day)\n",
    "y = # ... # Zielvariable (screen_time)\n",
    "model.fit(X, y) \n",
    "\n",
    "data['prediction'] = model.predict(X)"
   ]
  },
  {
   "cell_type": "code",
   "execution_count": null,
   "id": "a125cd8c",
   "metadata": {},
   "outputs": [],
   "source": [
    "print(f\"Achsenabschnitt b: {model.intercept_}\")\n",
    "print(f\"Steigung m: {model.coef_}\")"
   ]
  },
  {
   "cell_type": "code",
   "execution_count": null,
   "id": "662712cf",
   "metadata": {},
   "outputs": [],
   "source": [
    "plt.figure(figsize=(10, 6))\n",
    "plt.scatter(data['study_hours_per_day'], data['screen_time'], alpha=0.2)\n",
    "\n",
    "plt.plot(data['study_hours_per_day'], data['prediction'], color='red', linewidth=2)\n",
    "\n",
    "plt.title('Study Hours vs Screen Time with Prediction Line')\n",
    "plt.xlabel('Study Hours per Day')\n",
    "plt.ylabel('Screen Time (hours)')\n",
    "plt.grid()\n",
    "plt.show()"
   ]
  },
  {
   "cell_type": "markdown",
   "id": "1d827fed",
   "metadata": {},
   "source": [
    "### Aufgabe 2\n",
    "Berechnen Sie die Residuen und visualisieren Sie diese."
   ]
  },
  {
   "cell_type": "code",
   "execution_count": null,
   "id": "4a2ef115",
   "metadata": {},
   "outputs": [],
   "source": [
    "# Residuen sind die Differenz zwischen tatsächlichen und vorhergesagten Werten\n",
    "data['residuals'] = # ...\n",
    "\n",
    "plt.figure(figsize=(10, 6))\n",
    "plt.scatter(data['study_hours_per_day'], data['residuals'], alpha=0.2)\n",
    "plt.axhline(0, color='red', linestyle='--')  # Horizontale Linie bei y=0\n",
    "plt.title('Residuals of the Model')\n",
    "plt.xlabel('Study Hours per Day')\n",
    "plt.ylabel('Residuals')\n",
    "plt.grid()\n",
    "plt.show()"
   ]
  },
  {
   "cell_type": "markdown",
   "id": "03c512f7",
   "metadata": {},
   "source": [
    "### Aufgabe 3\n",
    "Berechnen Sie den MAE (Mean Absolute Error) und MSE (Mean Squared Error) für das Modell."
   ]
  },
  {
   "cell_type": "code",
   "execution_count": null,
   "id": "3e3fd255",
   "metadata": {},
   "outputs": [],
   "source": [
    "# MSE ist der Durchschnitt der quadrierten Residuen\n",
    "mse = # ...\n",
    "\n",
    "# MAE ist der Durchschnitt der absoluten Residuen\n",
    "mae = # ...\n",
    "\n",
    "print(f\"Mean Squared Error: {mse}\")\n",
    "print(f\"Mean Absolute Error: {mae}\")"
   ]
  }
 ],
 "metadata": {
  "kernelspec": {
   "display_name": ".venv",
   "language": "python",
   "name": "python3"
  },
  "language_info": {
   "codemirror_mode": {
    "name": "ipython",
    "version": 3
   },
   "file_extension": ".py",
   "mimetype": "text/x-python",
   "name": "python",
   "nbconvert_exporter": "python",
   "pygments_lexer": "ipython3",
   "version": "3.13.3"
  }
 },
 "nbformat": 4,
 "nbformat_minor": 5
}
