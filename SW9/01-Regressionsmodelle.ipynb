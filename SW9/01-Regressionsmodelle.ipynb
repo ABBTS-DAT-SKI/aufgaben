{
 "cells": [
  {
   "cell_type": "markdown",
   "id": "8fd26c84",
   "metadata": {},
   "source": [
    "## Beliebtesten Regressionsmodelle und Modellbewertung\n",
    "\n",
    "### Aufgabenstellung\n",
    "\n",
    "In dieser Aufgabe werden Sie verschiedene Regressionsmodelle anwenden, um Temperaturverläufe über die Zeit zu analysieren und vorherzusagen. Sie werden lernen, wie sich lineare Regression, Decision Tree Regression und K-Nearest Neighbors bei unterschiedlichen Datenmustern verhalten, deren Parameter zu optimieren und diese untereinander zu vergleichen.\n",
    "\n",
    "Lesen Sie zunächst die folgenden Dokumentationen durch:\n",
    "- [Grundlagen Machine Learning](https://abbts-dat-ski.github.io/wissensdatenbank/machine-learning/basics/)\n",
    "- [Lineare Regression](https://abbts-dat-ski.github.io/wissensdatenbank/machine-learning/linear_regression/)\n",
    "- [Weitere Regressionen](https://abbts-dat-ski.github.io/wissensdatenbank/machine-learning/other_regression_models/)\n",
    "- [Modellevaluation](https://abbts-dat-ski.github.io/wissensdatenbank/machine-learning/model_evaluation/)"
   ]
  },
  {
   "cell_type": "code",
   "execution_count": null,
   "id": "794a087d",
   "metadata": {},
   "outputs": [],
   "source": [
    "import pandas as pd\n",
    "import matplotlib.pyplot as plt\n",
    "from sklearn.linear_model import LinearRegression \n",
    "from sklearn.tree import DecisionTreeRegressor \n",
    "from sklearn.neighbors import KNeighborsRegressor \n",
    "\n",
    "data = pd.read_csv('../data/temperature_simulation.csv')\n",
    "data"
   ]
  },
  {
   "cell_type": "code",
   "execution_count": null,
   "id": "ee32db4d",
   "metadata": {},
   "outputs": [],
   "source": [
    "# Wird für die Visualisierung und Berechnung der MSE verwendet\n",
    "def plot_data(dataset, X_col, y_col, model):\n",
    "    X = dataset[[X_col]]\n",
    "    y = dataset[y_col]\n",
    "    \n",
    "    plt.scatter(X, y, color='blue', label='Datenpunkte', alpha=0.5)\n",
    "    plt.scatter(X, model.predict(X), color='red', label='Vorhersage')\n",
    "    plt.xlabel(X_col)\n",
    "    plt.ylabel(y_col)\n",
    "    plt.title(f'{y_col} vs {X_col} mit {model.__class__.__name__}')\n",
    "    plt.legend()\n",
    "    plt.show()\n",
    "\n",
    "    print(f'MSE für {model.__class__.__name__}: {((y - model.predict(X)) ** 2).mean()}')"
   ]
  },
  {
   "cell_type": "code",
   "execution_count": null,
   "id": "f15a08d3",
   "metadata": {},
   "outputs": [],
   "source": [
    "X = data[['time']]\n",
    "y = data['temperature']"
   ]
  },
  {
   "cell_type": "markdown",
   "id": "3c033866",
   "metadata": {},
   "source": [
    "### Aufgabe 1\n",
    "Beurteilen Sie, ob eine Lineare Regression für die Daten geeignet ist."
   ]
  },
  {
   "cell_type": "code",
   "execution_count": null,
   "id": "157b645d",
   "metadata": {},
   "outputs": [],
   "source": [
    "# Lineare Regression\n",
    "linear_model = LinearRegression()\n",
    "linear_model.fit(X, y)\n",
    "\n",
    "# Vorhersage mit dem linearen Modell\n",
    "plot_data(data, 'time', 'temperature', linear_model)"
   ]
  },
  {
   "cell_type": "markdown",
   "id": "a4d1b4f5",
   "metadata": {},
   "source": []
  },
  {
   "cell_type": "markdown",
   "id": "d94e04d6",
   "metadata": {},
   "source": [
    "### Aufgabe 2\n",
    "Passen Sie beim Decision Tree Regressor den Parameter `max_depth` an. Dieser Parameter begrenzt die maximale Tiefe des Entscheidungsbaums. Testen Sie verschiedene Werte und wählen Sie den besten aus."
   ]
  },
  {
   "cell_type": "code",
   "execution_count": null,
   "id": "d38c7eb1",
   "metadata": {},
   "outputs": [],
   "source": [
    "# Decision Tree Regression\n",
    "tree_model = DecisionTreeRegressor(max_depth=2) # --- HIER ANPASSEN ---\n",
    "tree_model.fit(X, y)\n",
    "\n",
    "# Vorhersage mit dem Decision Tree Modell\n",
    "plot_data(data, 'time', 'temperature', tree_model)"
   ]
  },
  {
   "cell_type": "markdown",
   "id": "19904cec",
   "metadata": {},
   "source": []
  },
  {
   "cell_type": "markdown",
   "id": "010d722f",
   "metadata": {},
   "source": [
    "### Aufgabe 3\n",
    "Passen Sie beim K-Nearest Neigbors Regressor den Parameter `n_neighbors` an. Dieser Parameter gibt die Anzahl der Nachbarn an, die bei der Vorhersage berücksichtigt werden. Testen Sie verschiedene Werte und wählen Sie den besten aus."
   ]
  },
  {
   "cell_type": "code",
   "execution_count": null,
   "id": "2f2fb4b0",
   "metadata": {},
   "outputs": [],
   "source": [
    "# K-Nearest Neighbors Regression\n",
    "knn_model = KNeighborsRegressor(n_neighbors=5) # --- HIER ANPASSEN ---\n",
    "knn_model.fit(X, y)\n",
    "\n",
    "# Vorhersage mit dem KNN Modell\n",
    "plot_data(data, 'time', 'temperature', knn_model)"
   ]
  },
  {
   "cell_type": "markdown",
   "id": "cd3d805b",
   "metadata": {},
   "source": []
  },
  {
   "cell_type": "markdown",
   "id": "1710d543",
   "metadata": {},
   "source": [
    "### Aufgabe 4\n",
    "Beurteilen Sie, ob ein kleiner MSE (Mean Squared Error) ein Indikator für eine gute Vorhersage ist."
   ]
  },
  {
   "cell_type": "markdown",
   "id": "0a90ca36",
   "metadata": {},
   "source": []
  },
  {
   "cell_type": "markdown",
   "id": "9a7063c8",
   "metadata": {},
   "source": [
    "### Aufgabe 5\n",
    "Im folgenden Beispiel wird der Datensatz in Trainings- und Testdaten aufgeteilt. Es werden zufällig 80% der Daten für das Training und 20% für den Test verwendet. Passen Sie hier den Parameter `n_neighbors` beim K-Nearest Neighbors Regressor an, um den tiefsten MSE zu erreichen. Beschreibt das hier gefundene Modell die Daten besser als das Modell aus Aufgabe 3?"
   ]
  },
  {
   "cell_type": "code",
   "execution_count": null,
   "id": "b40d1658",
   "metadata": {},
   "outputs": [],
   "source": [
    "# Aufteilen der Daten in Trainings- und Testdaten (80% Training, 20% Test)\n",
    "train_data = data.sample(frac=0.8, random_state=42)\n",
    "test_data = data.drop(train_data.index)\n",
    "\n",
    "X_train = train_data[['time']]\n",
    "y_train = train_data['temperature']\n",
    "\n",
    "knn_model = KNeighborsRegressor(n_neighbors=5) # --- HIER ANPASSEN ---\n",
    "knn_model.fit(X_train, y_train)\n",
    "\n",
    "plot_data(test_data, 'time', 'temperature', knn_model)"
   ]
  },
  {
   "cell_type": "markdown",
   "id": "9fc32be6",
   "metadata": {},
   "source": []
  }
 ],
 "metadata": {
  "kernelspec": {
   "display_name": ".venv",
   "language": "python",
   "name": "python3"
  },
  "language_info": {
   "codemirror_mode": {
    "name": "ipython",
    "version": 3
   },
   "file_extension": ".py",
   "mimetype": "text/x-python",
   "name": "python",
   "nbconvert_exporter": "python",
   "pygments_lexer": "ipython3",
   "version": "3.13.3"
  }
 },
 "nbformat": 4,
 "nbformat_minor": 5
}
